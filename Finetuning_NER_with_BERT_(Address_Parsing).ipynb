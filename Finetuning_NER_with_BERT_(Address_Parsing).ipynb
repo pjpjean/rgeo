{
  "nbformat": 4,
  "nbformat_minor": 0,
  "metadata": {
    "colab": {
      "provenance": [],
      "mount_file_id": "19LqCPpQ-arqptqRaWmMH3lOewPoIiHnV",
      "authorship_tag": "ABX9TyPJntLjax7Brprn+fB1lbUh",
      "include_colab_link": true
    },
    "kernelspec": {
      "name": "python3",
      "display_name": "Python 3"
    },
    "language_info": {
      "name": "python"
    },
    "widgets": {
      "application/vnd.jupyter.widget-state+json": {
        "a89a21e0750b4da0a5897f37ff0ec0a2": {
          "model_module": "@jupyter-widgets/controls",
          "model_name": "HBoxModel",
          "model_module_version": "1.5.0",
          "state": {
            "_dom_classes": [],
            "_model_module": "@jupyter-widgets/controls",
            "_model_module_version": "1.5.0",
            "_model_name": "HBoxModel",
            "_view_count": null,
            "_view_module": "@jupyter-widgets/controls",
            "_view_module_version": "1.5.0",
            "_view_name": "HBoxView",
            "box_style": "",
            "children": [
              "IPY_MODEL_645577b9157d455ab4f5b359398b1f03",
              "IPY_MODEL_a39e51c412ae495bbfe6744bab9a2152",
              "IPY_MODEL_c235e7a27bb241e380b13ed9b91c4a9e"
            ],
            "layout": "IPY_MODEL_598a4dce18d046ffb0d672d3d4bf6f87"
          }
        },
        "645577b9157d455ab4f5b359398b1f03": {
          "model_module": "@jupyter-widgets/controls",
          "model_name": "HTMLModel",
          "model_module_version": "1.5.0",
          "state": {
            "_dom_classes": [],
            "_model_module": "@jupyter-widgets/controls",
            "_model_module_version": "1.5.0",
            "_model_name": "HTMLModel",
            "_view_count": null,
            "_view_module": "@jupyter-widgets/controls",
            "_view_module_version": "1.5.0",
            "_view_name": "HTMLView",
            "description": "",
            "description_tooltip": null,
            "layout": "IPY_MODEL_3b185196e34646d79cb40269a2cc8f2a",
            "placeholder": "​",
            "style": "IPY_MODEL_6d7e7bc2b4864ad5998224f5d0884235",
            "value": "Downloading (…)okenizer_config.json: 100%"
          }
        },
        "a39e51c412ae495bbfe6744bab9a2152": {
          "model_module": "@jupyter-widgets/controls",
          "model_name": "FloatProgressModel",
          "model_module_version": "1.5.0",
          "state": {
            "_dom_classes": [],
            "_model_module": "@jupyter-widgets/controls",
            "_model_module_version": "1.5.0",
            "_model_name": "FloatProgressModel",
            "_view_count": null,
            "_view_module": "@jupyter-widgets/controls",
            "_view_module_version": "1.5.0",
            "_view_name": "ProgressView",
            "bar_style": "success",
            "description": "",
            "description_tooltip": null,
            "layout": "IPY_MODEL_012ee222a94c452387188648a8ec7e0b",
            "max": 28,
            "min": 0,
            "orientation": "horizontal",
            "style": "IPY_MODEL_3a0951407bea45939eed5063bd740fa6",
            "value": 28
          }
        },
        "c235e7a27bb241e380b13ed9b91c4a9e": {
          "model_module": "@jupyter-widgets/controls",
          "model_name": "HTMLModel",
          "model_module_version": "1.5.0",
          "state": {
            "_dom_classes": [],
            "_model_module": "@jupyter-widgets/controls",
            "_model_module_version": "1.5.0",
            "_model_name": "HTMLModel",
            "_view_count": null,
            "_view_module": "@jupyter-widgets/controls",
            "_view_module_version": "1.5.0",
            "_view_name": "HTMLView",
            "description": "",
            "description_tooltip": null,
            "layout": "IPY_MODEL_de87bc11369f4b7aae2a15d86f881d16",
            "placeholder": "​",
            "style": "IPY_MODEL_a42126d990f945c0bc5ee64732e45253",
            "value": " 28.0/28.0 [00:00&lt;00:00, 762B/s]"
          }
        },
        "598a4dce18d046ffb0d672d3d4bf6f87": {
          "model_module": "@jupyter-widgets/base",
          "model_name": "LayoutModel",
          "model_module_version": "1.2.0",
          "state": {
            "_model_module": "@jupyter-widgets/base",
            "_model_module_version": "1.2.0",
            "_model_name": "LayoutModel",
            "_view_count": null,
            "_view_module": "@jupyter-widgets/base",
            "_view_module_version": "1.2.0",
            "_view_name": "LayoutView",
            "align_content": null,
            "align_items": null,
            "align_self": null,
            "border": null,
            "bottom": null,
            "display": null,
            "flex": null,
            "flex_flow": null,
            "grid_area": null,
            "grid_auto_columns": null,
            "grid_auto_flow": null,
            "grid_auto_rows": null,
            "grid_column": null,
            "grid_gap": null,
            "grid_row": null,
            "grid_template_areas": null,
            "grid_template_columns": null,
            "grid_template_rows": null,
            "height": null,
            "justify_content": null,
            "justify_items": null,
            "left": null,
            "margin": null,
            "max_height": null,
            "max_width": null,
            "min_height": null,
            "min_width": null,
            "object_fit": null,
            "object_position": null,
            "order": null,
            "overflow": null,
            "overflow_x": null,
            "overflow_y": null,
            "padding": null,
            "right": null,
            "top": null,
            "visibility": null,
            "width": null
          }
        },
        "3b185196e34646d79cb40269a2cc8f2a": {
          "model_module": "@jupyter-widgets/base",
          "model_name": "LayoutModel",
          "model_module_version": "1.2.0",
          "state": {
            "_model_module": "@jupyter-widgets/base",
            "_model_module_version": "1.2.0",
            "_model_name": "LayoutModel",
            "_view_count": null,
            "_view_module": "@jupyter-widgets/base",
            "_view_module_version": "1.2.0",
            "_view_name": "LayoutView",
            "align_content": null,
            "align_items": null,
            "align_self": null,
            "border": null,
            "bottom": null,
            "display": null,
            "flex": null,
            "flex_flow": null,
            "grid_area": null,
            "grid_auto_columns": null,
            "grid_auto_flow": null,
            "grid_auto_rows": null,
            "grid_column": null,
            "grid_gap": null,
            "grid_row": null,
            "grid_template_areas": null,
            "grid_template_columns": null,
            "grid_template_rows": null,
            "height": null,
            "justify_content": null,
            "justify_items": null,
            "left": null,
            "margin": null,
            "max_height": null,
            "max_width": null,
            "min_height": null,
            "min_width": null,
            "object_fit": null,
            "object_position": null,
            "order": null,
            "overflow": null,
            "overflow_x": null,
            "overflow_y": null,
            "padding": null,
            "right": null,
            "top": null,
            "visibility": null,
            "width": null
          }
        },
        "6d7e7bc2b4864ad5998224f5d0884235": {
          "model_module": "@jupyter-widgets/controls",
          "model_name": "DescriptionStyleModel",
          "model_module_version": "1.5.0",
          "state": {
            "_model_module": "@jupyter-widgets/controls",
            "_model_module_version": "1.5.0",
            "_model_name": "DescriptionStyleModel",
            "_view_count": null,
            "_view_module": "@jupyter-widgets/base",
            "_view_module_version": "1.2.0",
            "_view_name": "StyleView",
            "description_width": ""
          }
        },
        "012ee222a94c452387188648a8ec7e0b": {
          "model_module": "@jupyter-widgets/base",
          "model_name": "LayoutModel",
          "model_module_version": "1.2.0",
          "state": {
            "_model_module": "@jupyter-widgets/base",
            "_model_module_version": "1.2.0",
            "_model_name": "LayoutModel",
            "_view_count": null,
            "_view_module": "@jupyter-widgets/base",
            "_view_module_version": "1.2.0",
            "_view_name": "LayoutView",
            "align_content": null,
            "align_items": null,
            "align_self": null,
            "border": null,
            "bottom": null,
            "display": null,
            "flex": null,
            "flex_flow": null,
            "grid_area": null,
            "grid_auto_columns": null,
            "grid_auto_flow": null,
            "grid_auto_rows": null,
            "grid_column": null,
            "grid_gap": null,
            "grid_row": null,
            "grid_template_areas": null,
            "grid_template_columns": null,
            "grid_template_rows": null,
            "height": null,
            "justify_content": null,
            "justify_items": null,
            "left": null,
            "margin": null,
            "max_height": null,
            "max_width": null,
            "min_height": null,
            "min_width": null,
            "object_fit": null,
            "object_position": null,
            "order": null,
            "overflow": null,
            "overflow_x": null,
            "overflow_y": null,
            "padding": null,
            "right": null,
            "top": null,
            "visibility": null,
            "width": null
          }
        },
        "3a0951407bea45939eed5063bd740fa6": {
          "model_module": "@jupyter-widgets/controls",
          "model_name": "ProgressStyleModel",
          "model_module_version": "1.5.0",
          "state": {
            "_model_module": "@jupyter-widgets/controls",
            "_model_module_version": "1.5.0",
            "_model_name": "ProgressStyleModel",
            "_view_count": null,
            "_view_module": "@jupyter-widgets/base",
            "_view_module_version": "1.2.0",
            "_view_name": "StyleView",
            "bar_color": null,
            "description_width": ""
          }
        },
        "de87bc11369f4b7aae2a15d86f881d16": {
          "model_module": "@jupyter-widgets/base",
          "model_name": "LayoutModel",
          "model_module_version": "1.2.0",
          "state": {
            "_model_module": "@jupyter-widgets/base",
            "_model_module_version": "1.2.0",
            "_model_name": "LayoutModel",
            "_view_count": null,
            "_view_module": "@jupyter-widgets/base",
            "_view_module_version": "1.2.0",
            "_view_name": "LayoutView",
            "align_content": null,
            "align_items": null,
            "align_self": null,
            "border": null,
            "bottom": null,
            "display": null,
            "flex": null,
            "flex_flow": null,
            "grid_area": null,
            "grid_auto_columns": null,
            "grid_auto_flow": null,
            "grid_auto_rows": null,
            "grid_column": null,
            "grid_gap": null,
            "grid_row": null,
            "grid_template_areas": null,
            "grid_template_columns": null,
            "grid_template_rows": null,
            "height": null,
            "justify_content": null,
            "justify_items": null,
            "left": null,
            "margin": null,
            "max_height": null,
            "max_width": null,
            "min_height": null,
            "min_width": null,
            "object_fit": null,
            "object_position": null,
            "order": null,
            "overflow": null,
            "overflow_x": null,
            "overflow_y": null,
            "padding": null,
            "right": null,
            "top": null,
            "visibility": null,
            "width": null
          }
        },
        "a42126d990f945c0bc5ee64732e45253": {
          "model_module": "@jupyter-widgets/controls",
          "model_name": "DescriptionStyleModel",
          "model_module_version": "1.5.0",
          "state": {
            "_model_module": "@jupyter-widgets/controls",
            "_model_module_version": "1.5.0",
            "_model_name": "DescriptionStyleModel",
            "_view_count": null,
            "_view_module": "@jupyter-widgets/base",
            "_view_module_version": "1.2.0",
            "_view_name": "StyleView",
            "description_width": ""
          }
        },
        "5874dfdd296e455eaa555669eb78ab23": {
          "model_module": "@jupyter-widgets/controls",
          "model_name": "HBoxModel",
          "model_module_version": "1.5.0",
          "state": {
            "_dom_classes": [],
            "_model_module": "@jupyter-widgets/controls",
            "_model_module_version": "1.5.0",
            "_model_name": "HBoxModel",
            "_view_count": null,
            "_view_module": "@jupyter-widgets/controls",
            "_view_module_version": "1.5.0",
            "_view_name": "HBoxView",
            "box_style": "",
            "children": [
              "IPY_MODEL_bcdcc92bc76248b3912d83e3c6e85b53",
              "IPY_MODEL_1a5fae00a4ec4172bcf01211b48824dd",
              "IPY_MODEL_20e56ab2f22440c19a4c233a7bb05301"
            ],
            "layout": "IPY_MODEL_9805acc4c82742e78c7aa0f79abd227f"
          }
        },
        "bcdcc92bc76248b3912d83e3c6e85b53": {
          "model_module": "@jupyter-widgets/controls",
          "model_name": "HTMLModel",
          "model_module_version": "1.5.0",
          "state": {
            "_dom_classes": [],
            "_model_module": "@jupyter-widgets/controls",
            "_model_module_version": "1.5.0",
            "_model_name": "HTMLModel",
            "_view_count": null,
            "_view_module": "@jupyter-widgets/controls",
            "_view_module_version": "1.5.0",
            "_view_name": "HTMLView",
            "description": "",
            "description_tooltip": null,
            "layout": "IPY_MODEL_1ce817aba2f54ff9bc0e8547d21affd4",
            "placeholder": "​",
            "style": "IPY_MODEL_e84d563acfaf40769f8ef84496d4a440",
            "value": "Downloading (…)solve/main/vocab.txt: 100%"
          }
        },
        "1a5fae00a4ec4172bcf01211b48824dd": {
          "model_module": "@jupyter-widgets/controls",
          "model_name": "FloatProgressModel",
          "model_module_version": "1.5.0",
          "state": {
            "_dom_classes": [],
            "_model_module": "@jupyter-widgets/controls",
            "_model_module_version": "1.5.0",
            "_model_name": "FloatProgressModel",
            "_view_count": null,
            "_view_module": "@jupyter-widgets/controls",
            "_view_module_version": "1.5.0",
            "_view_name": "ProgressView",
            "bar_style": "success",
            "description": "",
            "description_tooltip": null,
            "layout": "IPY_MODEL_7a9f34f0b2fd48ff9c64aca22fc7e300",
            "max": 231508,
            "min": 0,
            "orientation": "horizontal",
            "style": "IPY_MODEL_63adfc74c76441d58a311515fbaefe9a",
            "value": 231508
          }
        },
        "20e56ab2f22440c19a4c233a7bb05301": {
          "model_module": "@jupyter-widgets/controls",
          "model_name": "HTMLModel",
          "model_module_version": "1.5.0",
          "state": {
            "_dom_classes": [],
            "_model_module": "@jupyter-widgets/controls",
            "_model_module_version": "1.5.0",
            "_model_name": "HTMLModel",
            "_view_count": null,
            "_view_module": "@jupyter-widgets/controls",
            "_view_module_version": "1.5.0",
            "_view_name": "HTMLView",
            "description": "",
            "description_tooltip": null,
            "layout": "IPY_MODEL_3838b9abfa814b929574318b7e1ce6ce",
            "placeholder": "​",
            "style": "IPY_MODEL_28f0935e167142f989b4147398a46744",
            "value": " 232k/232k [00:00&lt;00:00, 315kB/s]"
          }
        },
        "9805acc4c82742e78c7aa0f79abd227f": {
          "model_module": "@jupyter-widgets/base",
          "model_name": "LayoutModel",
          "model_module_version": "1.2.0",
          "state": {
            "_model_module": "@jupyter-widgets/base",
            "_model_module_version": "1.2.0",
            "_model_name": "LayoutModel",
            "_view_count": null,
            "_view_module": "@jupyter-widgets/base",
            "_view_module_version": "1.2.0",
            "_view_name": "LayoutView",
            "align_content": null,
            "align_items": null,
            "align_self": null,
            "border": null,
            "bottom": null,
            "display": null,
            "flex": null,
            "flex_flow": null,
            "grid_area": null,
            "grid_auto_columns": null,
            "grid_auto_flow": null,
            "grid_auto_rows": null,
            "grid_column": null,
            "grid_gap": null,
            "grid_row": null,
            "grid_template_areas": null,
            "grid_template_columns": null,
            "grid_template_rows": null,
            "height": null,
            "justify_content": null,
            "justify_items": null,
            "left": null,
            "margin": null,
            "max_height": null,
            "max_width": null,
            "min_height": null,
            "min_width": null,
            "object_fit": null,
            "object_position": null,
            "order": null,
            "overflow": null,
            "overflow_x": null,
            "overflow_y": null,
            "padding": null,
            "right": null,
            "top": null,
            "visibility": null,
            "width": null
          }
        },
        "1ce817aba2f54ff9bc0e8547d21affd4": {
          "model_module": "@jupyter-widgets/base",
          "model_name": "LayoutModel",
          "model_module_version": "1.2.0",
          "state": {
            "_model_module": "@jupyter-widgets/base",
            "_model_module_version": "1.2.0",
            "_model_name": "LayoutModel",
            "_view_count": null,
            "_view_module": "@jupyter-widgets/base",
            "_view_module_version": "1.2.0",
            "_view_name": "LayoutView",
            "align_content": null,
            "align_items": null,
            "align_self": null,
            "border": null,
            "bottom": null,
            "display": null,
            "flex": null,
            "flex_flow": null,
            "grid_area": null,
            "grid_auto_columns": null,
            "grid_auto_flow": null,
            "grid_auto_rows": null,
            "grid_column": null,
            "grid_gap": null,
            "grid_row": null,
            "grid_template_areas": null,
            "grid_template_columns": null,
            "grid_template_rows": null,
            "height": null,
            "justify_content": null,
            "justify_items": null,
            "left": null,
            "margin": null,
            "max_height": null,
            "max_width": null,
            "min_height": null,
            "min_width": null,
            "object_fit": null,
            "object_position": null,
            "order": null,
            "overflow": null,
            "overflow_x": null,
            "overflow_y": null,
            "padding": null,
            "right": null,
            "top": null,
            "visibility": null,
            "width": null
          }
        },
        "e84d563acfaf40769f8ef84496d4a440": {
          "model_module": "@jupyter-widgets/controls",
          "model_name": "DescriptionStyleModel",
          "model_module_version": "1.5.0",
          "state": {
            "_model_module": "@jupyter-widgets/controls",
            "_model_module_version": "1.5.0",
            "_model_name": "DescriptionStyleModel",
            "_view_count": null,
            "_view_module": "@jupyter-widgets/base",
            "_view_module_version": "1.2.0",
            "_view_name": "StyleView",
            "description_width": ""
          }
        },
        "7a9f34f0b2fd48ff9c64aca22fc7e300": {
          "model_module": "@jupyter-widgets/base",
          "model_name": "LayoutModel",
          "model_module_version": "1.2.0",
          "state": {
            "_model_module": "@jupyter-widgets/base",
            "_model_module_version": "1.2.0",
            "_model_name": "LayoutModel",
            "_view_count": null,
            "_view_module": "@jupyter-widgets/base",
            "_view_module_version": "1.2.0",
            "_view_name": "LayoutView",
            "align_content": null,
            "align_items": null,
            "align_self": null,
            "border": null,
            "bottom": null,
            "display": null,
            "flex": null,
            "flex_flow": null,
            "grid_area": null,
            "grid_auto_columns": null,
            "grid_auto_flow": null,
            "grid_auto_rows": null,
            "grid_column": null,
            "grid_gap": null,
            "grid_row": null,
            "grid_template_areas": null,
            "grid_template_columns": null,
            "grid_template_rows": null,
            "height": null,
            "justify_content": null,
            "justify_items": null,
            "left": null,
            "margin": null,
            "max_height": null,
            "max_width": null,
            "min_height": null,
            "min_width": null,
            "object_fit": null,
            "object_position": null,
            "order": null,
            "overflow": null,
            "overflow_x": null,
            "overflow_y": null,
            "padding": null,
            "right": null,
            "top": null,
            "visibility": null,
            "width": null
          }
        },
        "63adfc74c76441d58a311515fbaefe9a": {
          "model_module": "@jupyter-widgets/controls",
          "model_name": "ProgressStyleModel",
          "model_module_version": "1.5.0",
          "state": {
            "_model_module": "@jupyter-widgets/controls",
            "_model_module_version": "1.5.0",
            "_model_name": "ProgressStyleModel",
            "_view_count": null,
            "_view_module": "@jupyter-widgets/base",
            "_view_module_version": "1.2.0",
            "_view_name": "StyleView",
            "bar_color": null,
            "description_width": ""
          }
        },
        "3838b9abfa814b929574318b7e1ce6ce": {
          "model_module": "@jupyter-widgets/base",
          "model_name": "LayoutModel",
          "model_module_version": "1.2.0",
          "state": {
            "_model_module": "@jupyter-widgets/base",
            "_model_module_version": "1.2.0",
            "_model_name": "LayoutModel",
            "_view_count": null,
            "_view_module": "@jupyter-widgets/base",
            "_view_module_version": "1.2.0",
            "_view_name": "LayoutView",
            "align_content": null,
            "align_items": null,
            "align_self": null,
            "border": null,
            "bottom": null,
            "display": null,
            "flex": null,
            "flex_flow": null,
            "grid_area": null,
            "grid_auto_columns": null,
            "grid_auto_flow": null,
            "grid_auto_rows": null,
            "grid_column": null,
            "grid_gap": null,
            "grid_row": null,
            "grid_template_areas": null,
            "grid_template_columns": null,
            "grid_template_rows": null,
            "height": null,
            "justify_content": null,
            "justify_items": null,
            "left": null,
            "margin": null,
            "max_height": null,
            "max_width": null,
            "min_height": null,
            "min_width": null,
            "object_fit": null,
            "object_position": null,
            "order": null,
            "overflow": null,
            "overflow_x": null,
            "overflow_y": null,
            "padding": null,
            "right": null,
            "top": null,
            "visibility": null,
            "width": null
          }
        },
        "28f0935e167142f989b4147398a46744": {
          "model_module": "@jupyter-widgets/controls",
          "model_name": "DescriptionStyleModel",
          "model_module_version": "1.5.0",
          "state": {
            "_model_module": "@jupyter-widgets/controls",
            "_model_module_version": "1.5.0",
            "_model_name": "DescriptionStyleModel",
            "_view_count": null,
            "_view_module": "@jupyter-widgets/base",
            "_view_module_version": "1.2.0",
            "_view_name": "StyleView",
            "description_width": ""
          }
        },
        "876208dd6c61448f9ac7b30a4e04e9ef": {
          "model_module": "@jupyter-widgets/controls",
          "model_name": "HBoxModel",
          "model_module_version": "1.5.0",
          "state": {
            "_dom_classes": [],
            "_model_module": "@jupyter-widgets/controls",
            "_model_module_version": "1.5.0",
            "_model_name": "HBoxModel",
            "_view_count": null,
            "_view_module": "@jupyter-widgets/controls",
            "_view_module_version": "1.5.0",
            "_view_name": "HBoxView",
            "box_style": "",
            "children": [
              "IPY_MODEL_682e5c2300cf4802b7b847f72203c474",
              "IPY_MODEL_9e2de83f64d1414a9be5fba9a21eb262",
              "IPY_MODEL_79db20a3d4c24aa4a3e222237fccdddf"
            ],
            "layout": "IPY_MODEL_6a2c6cd4764f42479e11aefbdba31592"
          }
        },
        "682e5c2300cf4802b7b847f72203c474": {
          "model_module": "@jupyter-widgets/controls",
          "model_name": "HTMLModel",
          "model_module_version": "1.5.0",
          "state": {
            "_dom_classes": [],
            "_model_module": "@jupyter-widgets/controls",
            "_model_module_version": "1.5.0",
            "_model_name": "HTMLModel",
            "_view_count": null,
            "_view_module": "@jupyter-widgets/controls",
            "_view_module_version": "1.5.0",
            "_view_name": "HTMLView",
            "description": "",
            "description_tooltip": null,
            "layout": "IPY_MODEL_3744d792d2304b5180a0068e173670bf",
            "placeholder": "​",
            "style": "IPY_MODEL_79d2eb3efc3440b39c24808e139f9701",
            "value": "Downloading (…)/main/tokenizer.json: 100%"
          }
        },
        "9e2de83f64d1414a9be5fba9a21eb262": {
          "model_module": "@jupyter-widgets/controls",
          "model_name": "FloatProgressModel",
          "model_module_version": "1.5.0",
          "state": {
            "_dom_classes": [],
            "_model_module": "@jupyter-widgets/controls",
            "_model_module_version": "1.5.0",
            "_model_name": "FloatProgressModel",
            "_view_count": null,
            "_view_module": "@jupyter-widgets/controls",
            "_view_module_version": "1.5.0",
            "_view_name": "ProgressView",
            "bar_style": "success",
            "description": "",
            "description_tooltip": null,
            "layout": "IPY_MODEL_a8bdc48a73ee496ba6604782f01a885e",
            "max": 466062,
            "min": 0,
            "orientation": "horizontal",
            "style": "IPY_MODEL_3b1df5bd1b6a446696c070ba93637dc5",
            "value": 466062
          }
        },
        "79db20a3d4c24aa4a3e222237fccdddf": {
          "model_module": "@jupyter-widgets/controls",
          "model_name": "HTMLModel",
          "model_module_version": "1.5.0",
          "state": {
            "_dom_classes": [],
            "_model_module": "@jupyter-widgets/controls",
            "_model_module_version": "1.5.0",
            "_model_name": "HTMLModel",
            "_view_count": null,
            "_view_module": "@jupyter-widgets/controls",
            "_view_module_version": "1.5.0",
            "_view_name": "HTMLView",
            "description": "",
            "description_tooltip": null,
            "layout": "IPY_MODEL_92cd4fcd73294ac483aa47cabfe8344c",
            "placeholder": "​",
            "style": "IPY_MODEL_00aa9634e7914631a9de4b89f88da29e",
            "value": " 466k/466k [00:00&lt;00:00, 509kB/s]"
          }
        },
        "6a2c6cd4764f42479e11aefbdba31592": {
          "model_module": "@jupyter-widgets/base",
          "model_name": "LayoutModel",
          "model_module_version": "1.2.0",
          "state": {
            "_model_module": "@jupyter-widgets/base",
            "_model_module_version": "1.2.0",
            "_model_name": "LayoutModel",
            "_view_count": null,
            "_view_module": "@jupyter-widgets/base",
            "_view_module_version": "1.2.0",
            "_view_name": "LayoutView",
            "align_content": null,
            "align_items": null,
            "align_self": null,
            "border": null,
            "bottom": null,
            "display": null,
            "flex": null,
            "flex_flow": null,
            "grid_area": null,
            "grid_auto_columns": null,
            "grid_auto_flow": null,
            "grid_auto_rows": null,
            "grid_column": null,
            "grid_gap": null,
            "grid_row": null,
            "grid_template_areas": null,
            "grid_template_columns": null,
            "grid_template_rows": null,
            "height": null,
            "justify_content": null,
            "justify_items": null,
            "left": null,
            "margin": null,
            "max_height": null,
            "max_width": null,
            "min_height": null,
            "min_width": null,
            "object_fit": null,
            "object_position": null,
            "order": null,
            "overflow": null,
            "overflow_x": null,
            "overflow_y": null,
            "padding": null,
            "right": null,
            "top": null,
            "visibility": null,
            "width": null
          }
        },
        "3744d792d2304b5180a0068e173670bf": {
          "model_module": "@jupyter-widgets/base",
          "model_name": "LayoutModel",
          "model_module_version": "1.2.0",
          "state": {
            "_model_module": "@jupyter-widgets/base",
            "_model_module_version": "1.2.0",
            "_model_name": "LayoutModel",
            "_view_count": null,
            "_view_module": "@jupyter-widgets/base",
            "_view_module_version": "1.2.0",
            "_view_name": "LayoutView",
            "align_content": null,
            "align_items": null,
            "align_self": null,
            "border": null,
            "bottom": null,
            "display": null,
            "flex": null,
            "flex_flow": null,
            "grid_area": null,
            "grid_auto_columns": null,
            "grid_auto_flow": null,
            "grid_auto_rows": null,
            "grid_column": null,
            "grid_gap": null,
            "grid_row": null,
            "grid_template_areas": null,
            "grid_template_columns": null,
            "grid_template_rows": null,
            "height": null,
            "justify_content": null,
            "justify_items": null,
            "left": null,
            "margin": null,
            "max_height": null,
            "max_width": null,
            "min_height": null,
            "min_width": null,
            "object_fit": null,
            "object_position": null,
            "order": null,
            "overflow": null,
            "overflow_x": null,
            "overflow_y": null,
            "padding": null,
            "right": null,
            "top": null,
            "visibility": null,
            "width": null
          }
        },
        "79d2eb3efc3440b39c24808e139f9701": {
          "model_module": "@jupyter-widgets/controls",
          "model_name": "DescriptionStyleModel",
          "model_module_version": "1.5.0",
          "state": {
            "_model_module": "@jupyter-widgets/controls",
            "_model_module_version": "1.5.0",
            "_model_name": "DescriptionStyleModel",
            "_view_count": null,
            "_view_module": "@jupyter-widgets/base",
            "_view_module_version": "1.2.0",
            "_view_name": "StyleView",
            "description_width": ""
          }
        },
        "a8bdc48a73ee496ba6604782f01a885e": {
          "model_module": "@jupyter-widgets/base",
          "model_name": "LayoutModel",
          "model_module_version": "1.2.0",
          "state": {
            "_model_module": "@jupyter-widgets/base",
            "_model_module_version": "1.2.0",
            "_model_name": "LayoutModel",
            "_view_count": null,
            "_view_module": "@jupyter-widgets/base",
            "_view_module_version": "1.2.0",
            "_view_name": "LayoutView",
            "align_content": null,
            "align_items": null,
            "align_self": null,
            "border": null,
            "bottom": null,
            "display": null,
            "flex": null,
            "flex_flow": null,
            "grid_area": null,
            "grid_auto_columns": null,
            "grid_auto_flow": null,
            "grid_auto_rows": null,
            "grid_column": null,
            "grid_gap": null,
            "grid_row": null,
            "grid_template_areas": null,
            "grid_template_columns": null,
            "grid_template_rows": null,
            "height": null,
            "justify_content": null,
            "justify_items": null,
            "left": null,
            "margin": null,
            "max_height": null,
            "max_width": null,
            "min_height": null,
            "min_width": null,
            "object_fit": null,
            "object_position": null,
            "order": null,
            "overflow": null,
            "overflow_x": null,
            "overflow_y": null,
            "padding": null,
            "right": null,
            "top": null,
            "visibility": null,
            "width": null
          }
        },
        "3b1df5bd1b6a446696c070ba93637dc5": {
          "model_module": "@jupyter-widgets/controls",
          "model_name": "ProgressStyleModel",
          "model_module_version": "1.5.0",
          "state": {
            "_model_module": "@jupyter-widgets/controls",
            "_model_module_version": "1.5.0",
            "_model_name": "ProgressStyleModel",
            "_view_count": null,
            "_view_module": "@jupyter-widgets/base",
            "_view_module_version": "1.2.0",
            "_view_name": "StyleView",
            "bar_color": null,
            "description_width": ""
          }
        },
        "92cd4fcd73294ac483aa47cabfe8344c": {
          "model_module": "@jupyter-widgets/base",
          "model_name": "LayoutModel",
          "model_module_version": "1.2.0",
          "state": {
            "_model_module": "@jupyter-widgets/base",
            "_model_module_version": "1.2.0",
            "_model_name": "LayoutModel",
            "_view_count": null,
            "_view_module": "@jupyter-widgets/base",
            "_view_module_version": "1.2.0",
            "_view_name": "LayoutView",
            "align_content": null,
            "align_items": null,
            "align_self": null,
            "border": null,
            "bottom": null,
            "display": null,
            "flex": null,
            "flex_flow": null,
            "grid_area": null,
            "grid_auto_columns": null,
            "grid_auto_flow": null,
            "grid_auto_rows": null,
            "grid_column": null,
            "grid_gap": null,
            "grid_row": null,
            "grid_template_areas": null,
            "grid_template_columns": null,
            "grid_template_rows": null,
            "height": null,
            "justify_content": null,
            "justify_items": null,
            "left": null,
            "margin": null,
            "max_height": null,
            "max_width": null,
            "min_height": null,
            "min_width": null,
            "object_fit": null,
            "object_position": null,
            "order": null,
            "overflow": null,
            "overflow_x": null,
            "overflow_y": null,
            "padding": null,
            "right": null,
            "top": null,
            "visibility": null,
            "width": null
          }
        },
        "00aa9634e7914631a9de4b89f88da29e": {
          "model_module": "@jupyter-widgets/controls",
          "model_name": "DescriptionStyleModel",
          "model_module_version": "1.5.0",
          "state": {
            "_model_module": "@jupyter-widgets/controls",
            "_model_module_version": "1.5.0",
            "_model_name": "DescriptionStyleModel",
            "_view_count": null,
            "_view_module": "@jupyter-widgets/base",
            "_view_module_version": "1.2.0",
            "_view_name": "StyleView",
            "description_width": ""
          }
        },
        "687e083e2c5b441eb10ea54bc6bc349a": {
          "model_module": "@jupyter-widgets/controls",
          "model_name": "HBoxModel",
          "model_module_version": "1.5.0",
          "state": {
            "_dom_classes": [],
            "_model_module": "@jupyter-widgets/controls",
            "_model_module_version": "1.5.0",
            "_model_name": "HBoxModel",
            "_view_count": null,
            "_view_module": "@jupyter-widgets/controls",
            "_view_module_version": "1.5.0",
            "_view_name": "HBoxView",
            "box_style": "",
            "children": [
              "IPY_MODEL_c5b79d75509a400ab363892238a7129f",
              "IPY_MODEL_53d5ba87ca7e4c0fbcaeb98bd79f4a53",
              "IPY_MODEL_f43d6d65bc954e45a07c2a20068d11f4"
            ],
            "layout": "IPY_MODEL_0f15a511e8214ae7bd50fad3c234821b"
          }
        },
        "c5b79d75509a400ab363892238a7129f": {
          "model_module": "@jupyter-widgets/controls",
          "model_name": "HTMLModel",
          "model_module_version": "1.5.0",
          "state": {
            "_dom_classes": [],
            "_model_module": "@jupyter-widgets/controls",
            "_model_module_version": "1.5.0",
            "_model_name": "HTMLModel",
            "_view_count": null,
            "_view_module": "@jupyter-widgets/controls",
            "_view_module_version": "1.5.0",
            "_view_name": "HTMLView",
            "description": "",
            "description_tooltip": null,
            "layout": "IPY_MODEL_e0cada532d05423c89f1978db6bc390c",
            "placeholder": "​",
            "style": "IPY_MODEL_da067abff4a54356afc0864d94530fb1",
            "value": "Downloading (…)lve/main/config.json: 100%"
          }
        },
        "53d5ba87ca7e4c0fbcaeb98bd79f4a53": {
          "model_module": "@jupyter-widgets/controls",
          "model_name": "FloatProgressModel",
          "model_module_version": "1.5.0",
          "state": {
            "_dom_classes": [],
            "_model_module": "@jupyter-widgets/controls",
            "_model_module_version": "1.5.0",
            "_model_name": "FloatProgressModel",
            "_view_count": null,
            "_view_module": "@jupyter-widgets/controls",
            "_view_module_version": "1.5.0",
            "_view_name": "ProgressView",
            "bar_style": "success",
            "description": "",
            "description_tooltip": null,
            "layout": "IPY_MODEL_90dbe8121c7047ef8a1d641e409fa55f",
            "max": 570,
            "min": 0,
            "orientation": "horizontal",
            "style": "IPY_MODEL_37129aacf5fd447f85ab243f8219f5e3",
            "value": 570
          }
        },
        "f43d6d65bc954e45a07c2a20068d11f4": {
          "model_module": "@jupyter-widgets/controls",
          "model_name": "HTMLModel",
          "model_module_version": "1.5.0",
          "state": {
            "_dom_classes": [],
            "_model_module": "@jupyter-widgets/controls",
            "_model_module_version": "1.5.0",
            "_model_name": "HTMLModel",
            "_view_count": null,
            "_view_module": "@jupyter-widgets/controls",
            "_view_module_version": "1.5.0",
            "_view_name": "HTMLView",
            "description": "",
            "description_tooltip": null,
            "layout": "IPY_MODEL_550a5e0849214ec2af116eb938810aa9",
            "placeholder": "​",
            "style": "IPY_MODEL_f324f3bb2ae746d4a4d203a132bee828",
            "value": " 570/570 [00:00&lt;00:00, 17.0kB/s]"
          }
        },
        "0f15a511e8214ae7bd50fad3c234821b": {
          "model_module": "@jupyter-widgets/base",
          "model_name": "LayoutModel",
          "model_module_version": "1.2.0",
          "state": {
            "_model_module": "@jupyter-widgets/base",
            "_model_module_version": "1.2.0",
            "_model_name": "LayoutModel",
            "_view_count": null,
            "_view_module": "@jupyter-widgets/base",
            "_view_module_version": "1.2.0",
            "_view_name": "LayoutView",
            "align_content": null,
            "align_items": null,
            "align_self": null,
            "border": null,
            "bottom": null,
            "display": null,
            "flex": null,
            "flex_flow": null,
            "grid_area": null,
            "grid_auto_columns": null,
            "grid_auto_flow": null,
            "grid_auto_rows": null,
            "grid_column": null,
            "grid_gap": null,
            "grid_row": null,
            "grid_template_areas": null,
            "grid_template_columns": null,
            "grid_template_rows": null,
            "height": null,
            "justify_content": null,
            "justify_items": null,
            "left": null,
            "margin": null,
            "max_height": null,
            "max_width": null,
            "min_height": null,
            "min_width": null,
            "object_fit": null,
            "object_position": null,
            "order": null,
            "overflow": null,
            "overflow_x": null,
            "overflow_y": null,
            "padding": null,
            "right": null,
            "top": null,
            "visibility": null,
            "width": null
          }
        },
        "e0cada532d05423c89f1978db6bc390c": {
          "model_module": "@jupyter-widgets/base",
          "model_name": "LayoutModel",
          "model_module_version": "1.2.0",
          "state": {
            "_model_module": "@jupyter-widgets/base",
            "_model_module_version": "1.2.0",
            "_model_name": "LayoutModel",
            "_view_count": null,
            "_view_module": "@jupyter-widgets/base",
            "_view_module_version": "1.2.0",
            "_view_name": "LayoutView",
            "align_content": null,
            "align_items": null,
            "align_self": null,
            "border": null,
            "bottom": null,
            "display": null,
            "flex": null,
            "flex_flow": null,
            "grid_area": null,
            "grid_auto_columns": null,
            "grid_auto_flow": null,
            "grid_auto_rows": null,
            "grid_column": null,
            "grid_gap": null,
            "grid_row": null,
            "grid_template_areas": null,
            "grid_template_columns": null,
            "grid_template_rows": null,
            "height": null,
            "justify_content": null,
            "justify_items": null,
            "left": null,
            "margin": null,
            "max_height": null,
            "max_width": null,
            "min_height": null,
            "min_width": null,
            "object_fit": null,
            "object_position": null,
            "order": null,
            "overflow": null,
            "overflow_x": null,
            "overflow_y": null,
            "padding": null,
            "right": null,
            "top": null,
            "visibility": null,
            "width": null
          }
        },
        "da067abff4a54356afc0864d94530fb1": {
          "model_module": "@jupyter-widgets/controls",
          "model_name": "DescriptionStyleModel",
          "model_module_version": "1.5.0",
          "state": {
            "_model_module": "@jupyter-widgets/controls",
            "_model_module_version": "1.5.0",
            "_model_name": "DescriptionStyleModel",
            "_view_count": null,
            "_view_module": "@jupyter-widgets/base",
            "_view_module_version": "1.2.0",
            "_view_name": "StyleView",
            "description_width": ""
          }
        },
        "90dbe8121c7047ef8a1d641e409fa55f": {
          "model_module": "@jupyter-widgets/base",
          "model_name": "LayoutModel",
          "model_module_version": "1.2.0",
          "state": {
            "_model_module": "@jupyter-widgets/base",
            "_model_module_version": "1.2.0",
            "_model_name": "LayoutModel",
            "_view_count": null,
            "_view_module": "@jupyter-widgets/base",
            "_view_module_version": "1.2.0",
            "_view_name": "LayoutView",
            "align_content": null,
            "align_items": null,
            "align_self": null,
            "border": null,
            "bottom": null,
            "display": null,
            "flex": null,
            "flex_flow": null,
            "grid_area": null,
            "grid_auto_columns": null,
            "grid_auto_flow": null,
            "grid_auto_rows": null,
            "grid_column": null,
            "grid_gap": null,
            "grid_row": null,
            "grid_template_areas": null,
            "grid_template_columns": null,
            "grid_template_rows": null,
            "height": null,
            "justify_content": null,
            "justify_items": null,
            "left": null,
            "margin": null,
            "max_height": null,
            "max_width": null,
            "min_height": null,
            "min_width": null,
            "object_fit": null,
            "object_position": null,
            "order": null,
            "overflow": null,
            "overflow_x": null,
            "overflow_y": null,
            "padding": null,
            "right": null,
            "top": null,
            "visibility": null,
            "width": null
          }
        },
        "37129aacf5fd447f85ab243f8219f5e3": {
          "model_module": "@jupyter-widgets/controls",
          "model_name": "ProgressStyleModel",
          "model_module_version": "1.5.0",
          "state": {
            "_model_module": "@jupyter-widgets/controls",
            "_model_module_version": "1.5.0",
            "_model_name": "ProgressStyleModel",
            "_view_count": null,
            "_view_module": "@jupyter-widgets/base",
            "_view_module_version": "1.2.0",
            "_view_name": "StyleView",
            "bar_color": null,
            "description_width": ""
          }
        },
        "550a5e0849214ec2af116eb938810aa9": {
          "model_module": "@jupyter-widgets/base",
          "model_name": "LayoutModel",
          "model_module_version": "1.2.0",
          "state": {
            "_model_module": "@jupyter-widgets/base",
            "_model_module_version": "1.2.0",
            "_model_name": "LayoutModel",
            "_view_count": null,
            "_view_module": "@jupyter-widgets/base",
            "_view_module_version": "1.2.0",
            "_view_name": "LayoutView",
            "align_content": null,
            "align_items": null,
            "align_self": null,
            "border": null,
            "bottom": null,
            "display": null,
            "flex": null,
            "flex_flow": null,
            "grid_area": null,
            "grid_auto_columns": null,
            "grid_auto_flow": null,
            "grid_auto_rows": null,
            "grid_column": null,
            "grid_gap": null,
            "grid_row": null,
            "grid_template_areas": null,
            "grid_template_columns": null,
            "grid_template_rows": null,
            "height": null,
            "justify_content": null,
            "justify_items": null,
            "left": null,
            "margin": null,
            "max_height": null,
            "max_width": null,
            "min_height": null,
            "min_width": null,
            "object_fit": null,
            "object_position": null,
            "order": null,
            "overflow": null,
            "overflow_x": null,
            "overflow_y": null,
            "padding": null,
            "right": null,
            "top": null,
            "visibility": null,
            "width": null
          }
        },
        "f324f3bb2ae746d4a4d203a132bee828": {
          "model_module": "@jupyter-widgets/controls",
          "model_name": "DescriptionStyleModel",
          "model_module_version": "1.5.0",
          "state": {
            "_model_module": "@jupyter-widgets/controls",
            "_model_module_version": "1.5.0",
            "_model_name": "DescriptionStyleModel",
            "_view_count": null,
            "_view_module": "@jupyter-widgets/base",
            "_view_module_version": "1.2.0",
            "_view_name": "StyleView",
            "description_width": ""
          }
        }
      }
    }
  },
  "cells": [
    {
      "cell_type": "markdown",
      "metadata": {
        "id": "view-in-github",
        "colab_type": "text"
      },
      "source": [
        "<a href=\"https://colab.research.google.com/github/pjpjean/rgeo/blob/main/Finetuning_NER_with_BERT_(Address_Parsing).ipynb\" target=\"_parent\"><img src=\"https://colab.research.google.com/assets/colab-badge.svg\" alt=\"Open In Colab\"/></a>"
      ]
    },
    {
      "cell_type": "markdown",
      "source": [
        "# Instalação"
      ],
      "metadata": {
        "id": "Wg1TzMJqHsfy"
      }
    },
    {
      "cell_type": "code",
      "execution_count": 2,
      "metadata": {
        "id": "e7X6y7lmWJVz"
      },
      "outputs": [],
      "source": [
        "import pandas as pd\n",
        "import numpy as np\n",
        "from contextlib import nullcontext\n",
        "import tqdm\n",
        "import torch\n",
        "from torch.utils.data import DataLoader, Dataset, random_split\n",
        "from torch.optim import SGD, Adam"
      ]
    },
    {
      "cell_type": "code",
      "source": [
        "%%capture\n",
        "!pip install transformers evaluate seqeval"
      ],
      "metadata": {
        "id": "1p9rS2w1zBbW"
      },
      "execution_count": null,
      "outputs": []
    },
    {
      "cell_type": "code",
      "source": [
        "from transformers import BertTokenizerFast, BertForTokenClassification\n",
        "import evaluate"
      ],
      "metadata": {
        "id": "wG20JL_gyo8Y"
      },
      "execution_count": 14,
      "outputs": []
    },
    {
      "cell_type": "markdown",
      "source": [
        "# Carga dos dados"
      ],
      "metadata": {
        "id": "Ox3v2aZZHymy"
      }
    },
    {
      "cell_type": "code",
      "source": [
        "dados = pd.read_csv('/content/drive/MyDrive/Colab Notebooks/data/br_100mil.csv', names = ['text', 'labels'])\n",
        "dados"
      ],
      "metadata": {
        "colab": {
          "base_uri": "https://localhost:8080/",
          "height": 424
        },
        "id": "4dFjaYpMyrbv",
        "outputId": "352a4538-6f0d-4a59-9f40-6736ee6eef7d"
      },
      "execution_count": 15,
      "outputs": [
        {
          "output_type": "execute_result",
          "data": {
            "text/plain": [
              "                                                    text  \\\n",
              "0                 r augusto bailao itaberaí go 76630-000   \n",
              "1          rua capitao daindo 435 redentora rs 98550-000   \n",
              "2           rua luiz montelatto 85 louveira sp 13290-000   \n",
              "3                 r apiacas 53 belford roxo rj 26115-280   \n",
              "4      estrada do curral novo 63 nova iguaçu rio de j...   \n",
              "...                                                  ...   \n",
              "99605  rua ernesto duarte de almeida 21 são fidélis r...   \n",
              "99606                   rua dinamarca altos pi 64290-000   \n",
              "99607      rua sao martinho 1265 pradópolis sp 14850-000   \n",
              "99608  avenida coronel joao da mota ribeiro 331 bom j...   \n",
              "99609        estrada mgg 010 mogi guaçu sp cep 13840-000   \n",
              "\n",
              "                                                  labels  \n",
              "0                                 LOG LOG LOG MUN UF CEP  \n",
              "1                             LOG LOG LOG NUM MUN UF CEP  \n",
              "2                             LOG LOG LOG NUM MUN UF CEP  \n",
              "3                             LOG LOG NUM MUN MUN UF CEP  \n",
              "4               LOG LOG LOG LOG NUM MUN MUN UF UF UF CEP  \n",
              "...                                                  ...  \n",
              "99605             LOG LOG LOG LOG LOG NUM MUN MUN UF CEP  \n",
              "99606                                 LOG LOG MUN UF CEP  \n",
              "99607                         LOG LOG LOG NUM MUN UF CEP  \n",
              "99608  LOG LOG LOG LOG LOG LOG NUM MUN MUN MUN MUN UF...  \n",
              "99609                     LOG LOG LOG MUN MUN UF CEP CEP  \n",
              "\n",
              "[99610 rows x 2 columns]"
            ],
            "text/html": [
              "\n",
              "  <div id=\"df-95043b7e-6962-4419-a988-35135c910b4c\">\n",
              "    <div class=\"colab-df-container\">\n",
              "      <div>\n",
              "<style scoped>\n",
              "    .dataframe tbody tr th:only-of-type {\n",
              "        vertical-align: middle;\n",
              "    }\n",
              "\n",
              "    .dataframe tbody tr th {\n",
              "        vertical-align: top;\n",
              "    }\n",
              "\n",
              "    .dataframe thead th {\n",
              "        text-align: right;\n",
              "    }\n",
              "</style>\n",
              "<table border=\"1\" class=\"dataframe\">\n",
              "  <thead>\n",
              "    <tr style=\"text-align: right;\">\n",
              "      <th></th>\n",
              "      <th>text</th>\n",
              "      <th>labels</th>\n",
              "    </tr>\n",
              "  </thead>\n",
              "  <tbody>\n",
              "    <tr>\n",
              "      <th>0</th>\n",
              "      <td>r augusto bailao itaberaí go 76630-000</td>\n",
              "      <td>LOG LOG LOG MUN UF CEP</td>\n",
              "    </tr>\n",
              "    <tr>\n",
              "      <th>1</th>\n",
              "      <td>rua capitao daindo 435 redentora rs 98550-000</td>\n",
              "      <td>LOG LOG LOG NUM MUN UF CEP</td>\n",
              "    </tr>\n",
              "    <tr>\n",
              "      <th>2</th>\n",
              "      <td>rua luiz montelatto 85 louveira sp 13290-000</td>\n",
              "      <td>LOG LOG LOG NUM MUN UF CEP</td>\n",
              "    </tr>\n",
              "    <tr>\n",
              "      <th>3</th>\n",
              "      <td>r apiacas 53 belford roxo rj 26115-280</td>\n",
              "      <td>LOG LOG NUM MUN MUN UF CEP</td>\n",
              "    </tr>\n",
              "    <tr>\n",
              "      <th>4</th>\n",
              "      <td>estrada do curral novo 63 nova iguaçu rio de j...</td>\n",
              "      <td>LOG LOG LOG LOG NUM MUN MUN UF UF UF CEP</td>\n",
              "    </tr>\n",
              "    <tr>\n",
              "      <th>...</th>\n",
              "      <td>...</td>\n",
              "      <td>...</td>\n",
              "    </tr>\n",
              "    <tr>\n",
              "      <th>99605</th>\n",
              "      <td>rua ernesto duarte de almeida 21 são fidélis r...</td>\n",
              "      <td>LOG LOG LOG LOG LOG NUM MUN MUN UF CEP</td>\n",
              "    </tr>\n",
              "    <tr>\n",
              "      <th>99606</th>\n",
              "      <td>rua dinamarca altos pi 64290-000</td>\n",
              "      <td>LOG LOG MUN UF CEP</td>\n",
              "    </tr>\n",
              "    <tr>\n",
              "      <th>99607</th>\n",
              "      <td>rua sao martinho 1265 pradópolis sp 14850-000</td>\n",
              "      <td>LOG LOG LOG NUM MUN UF CEP</td>\n",
              "    </tr>\n",
              "    <tr>\n",
              "      <th>99608</th>\n",
              "      <td>avenida coronel joao da mota ribeiro 331 bom j...</td>\n",
              "      <td>LOG LOG LOG LOG LOG LOG NUM MUN MUN MUN MUN UF...</td>\n",
              "    </tr>\n",
              "    <tr>\n",
              "      <th>99609</th>\n",
              "      <td>estrada mgg 010 mogi guaçu sp cep 13840-000</td>\n",
              "      <td>LOG LOG LOG MUN MUN UF CEP CEP</td>\n",
              "    </tr>\n",
              "  </tbody>\n",
              "</table>\n",
              "<p>99610 rows × 2 columns</p>\n",
              "</div>\n",
              "      <button class=\"colab-df-convert\" onclick=\"convertToInteractive('df-95043b7e-6962-4419-a988-35135c910b4c')\"\n",
              "              title=\"Convert this dataframe to an interactive table.\"\n",
              "              style=\"display:none;\">\n",
              "        \n",
              "  <svg xmlns=\"http://www.w3.org/2000/svg\" height=\"24px\"viewBox=\"0 0 24 24\"\n",
              "       width=\"24px\">\n",
              "    <path d=\"M0 0h24v24H0V0z\" fill=\"none\"/>\n",
              "    <path d=\"M18.56 5.44l.94 2.06.94-2.06 2.06-.94-2.06-.94-.94-2.06-.94 2.06-2.06.94zm-11 1L8.5 8.5l.94-2.06 2.06-.94-2.06-.94L8.5 2.5l-.94 2.06-2.06.94zm10 10l.94 2.06.94-2.06 2.06-.94-2.06-.94-.94-2.06-.94 2.06-2.06.94z\"/><path d=\"M17.41 7.96l-1.37-1.37c-.4-.4-.92-.59-1.43-.59-.52 0-1.04.2-1.43.59L10.3 9.45l-7.72 7.72c-.78.78-.78 2.05 0 2.83L4 21.41c.39.39.9.59 1.41.59.51 0 1.02-.2 1.41-.59l7.78-7.78 2.81-2.81c.8-.78.8-2.07 0-2.86zM5.41 20L4 18.59l7.72-7.72 1.47 1.35L5.41 20z\"/>\n",
              "  </svg>\n",
              "      </button>\n",
              "      \n",
              "  <style>\n",
              "    .colab-df-container {\n",
              "      display:flex;\n",
              "      flex-wrap:wrap;\n",
              "      gap: 12px;\n",
              "    }\n",
              "\n",
              "    .colab-df-convert {\n",
              "      background-color: #E8F0FE;\n",
              "      border: none;\n",
              "      border-radius: 50%;\n",
              "      cursor: pointer;\n",
              "      display: none;\n",
              "      fill: #1967D2;\n",
              "      height: 32px;\n",
              "      padding: 0 0 0 0;\n",
              "      width: 32px;\n",
              "    }\n",
              "\n",
              "    .colab-df-convert:hover {\n",
              "      background-color: #E2EBFA;\n",
              "      box-shadow: 0px 1px 2px rgba(60, 64, 67, 0.3), 0px 1px 3px 1px rgba(60, 64, 67, 0.15);\n",
              "      fill: #174EA6;\n",
              "    }\n",
              "\n",
              "    [theme=dark] .colab-df-convert {\n",
              "      background-color: #3B4455;\n",
              "      fill: #D2E3FC;\n",
              "    }\n",
              "\n",
              "    [theme=dark] .colab-df-convert:hover {\n",
              "      background-color: #434B5C;\n",
              "      box-shadow: 0px 1px 3px 1px rgba(0, 0, 0, 0.15);\n",
              "      filter: drop-shadow(0px 1px 2px rgba(0, 0, 0, 0.3));\n",
              "      fill: #FFFFFF;\n",
              "    }\n",
              "  </style>\n",
              "\n",
              "      <script>\n",
              "        const buttonEl =\n",
              "          document.querySelector('#df-95043b7e-6962-4419-a988-35135c910b4c button.colab-df-convert');\n",
              "        buttonEl.style.display =\n",
              "          google.colab.kernel.accessAllowed ? 'block' : 'none';\n",
              "\n",
              "        async function convertToInteractive(key) {\n",
              "          const element = document.querySelector('#df-95043b7e-6962-4419-a988-35135c910b4c');\n",
              "          const dataTable =\n",
              "            await google.colab.kernel.invokeFunction('convertToInteractive',\n",
              "                                                     [key], {});\n",
              "          if (!dataTable) return;\n",
              "\n",
              "          const docLinkHtml = 'Like what you see? Visit the ' +\n",
              "            '<a target=\"_blank\" href=https://colab.research.google.com/notebooks/data_table.ipynb>data table notebook</a>'\n",
              "            + ' to learn more about interactive tables.';\n",
              "          element.innerHTML = '';\n",
              "          dataTable['output_type'] = 'display_data';\n",
              "          await google.colab.output.renderOutput(dataTable, element);\n",
              "          const docLink = document.createElement('div');\n",
              "          docLink.innerHTML = docLinkHtml;\n",
              "          element.appendChild(docLink);\n",
              "        }\n",
              "      </script>\n",
              "    </div>\n",
              "  </div>\n",
              "  "
            ]
          },
          "metadata": {},
          "execution_count": 15
        }
      ]
    },
    {
      "cell_type": "code",
      "source": [
        "caracteres = {uc for t in dados['text'] for uc in t}\n",
        "''.join(sorted(caracteres))"
      ],
      "metadata": {
        "colab": {
          "base_uri": "https://localhost:8080/",
          "height": 35
        },
        "id": "zHGVfn4BK9ed",
        "outputId": "bd7b1d50-c951-48cd-fff7-2c7fb1eb86e8"
      },
      "execution_count": 16,
      "outputs": [
        {
          "output_type": "execute_result",
          "data": {
            "text/plain": [
              "' \"#\\'()-.0123456789:=[]abcdefghijklmnopqrstuvwxyz|ªºáâãçéêíóôõú�'"
            ],
            "application/vnd.google.colaboratory.intrinsic+json": {
              "type": "string"
            }
          },
          "metadata": {},
          "execution_count": 16
        }
      ]
    },
    {
      "cell_type": "code",
      "source": [
        "labels = {ul for l in dados['labels'] for ul in l.split()}\n",
        "labels"
      ],
      "metadata": {
        "colab": {
          "base_uri": "https://localhost:8080/"
        },
        "id": "XBBp1G9D2neP",
        "outputId": "a08185e9-5987-48ee-9787-103593fce764"
      },
      "execution_count": 17,
      "outputs": [
        {
          "output_type": "execute_result",
          "data": {
            "text/plain": [
              "{'CEP', 'LOG', 'MUN', 'NUM', 'UF'}"
            ]
          },
          "metadata": {},
          "execution_count": 17
        }
      ]
    },
    {
      "cell_type": "code",
      "source": [
        "max_len = max([len(t) for t in dados['text']])\n",
        "max_len"
      ],
      "metadata": {
        "colab": {
          "base_uri": "https://localhost:8080/"
        },
        "id": "-NvgTdWv4pND",
        "outputId": "300c98c4-58a7-462a-dfc1-2c10072719c0"
      },
      "execution_count": 18,
      "outputs": [
        {
          "output_type": "execute_result",
          "data": {
            "text/plain": [
              "108"
            ]
          },
          "metadata": {},
          "execution_count": 18
        }
      ]
    },
    {
      "cell_type": "code",
      "source": [
        "max_words = max([len(t.split()) for t in dados['text']])\n",
        "max_words"
      ],
      "metadata": {
        "colab": {
          "base_uri": "https://localhost:8080/"
        },
        "id": "_s6tMxxZmzfq",
        "outputId": "cf371a19-5780-4634-a364-c1e567044986"
      },
      "execution_count": 19,
      "outputs": [
        {
          "output_type": "execute_result",
          "data": {
            "text/plain": [
              "19"
            ]
          },
          "metadata": {},
          "execution_count": 19
        }
      ]
    },
    {
      "cell_type": "code",
      "source": [
        "dados['text'][dados['text'].str.contains(r'\\D-\\D')]"
      ],
      "metadata": {
        "colab": {
          "base_uri": "https://localhost:8080/"
        },
        "id": "DWPRrsqNFkkW",
        "outputId": "7eb75d77-02d8-47ab-fb8e-c2fede2264b2"
      },
      "execution_count": 20,
      "outputs": [
        {
          "output_type": "execute_result",
          "data": {
            "text/plain": [
              "89                  ave beira mar barra-velha sc 88390-000\n",
              "402      rua sao paulo 1670 são-caetano-do-s sp cep 095...\n",
              "479      rua juiz niltho leite 60 volta-redonda rj cep ...\n",
              "591      estrada santa barbara ao alto da serra abelard...\n",
              "685              rodovia do cafe nova-venécia es 29830-000\n",
              "                               ...                        \n",
              "99269            rua vespasiano 445 são-paulo sp 05044-050\n",
              "99384    rua joao antonio rodrigues 13 embu-guaçu sp 06...\n",
              "99513         r pernambuco 625 arroio-do-meio rs 95940-000\n",
              "99560        r padre vitorio igarapé-miri pa cep 68430-000\n",
              "99593        estrada da laguna capão-da-canoa rs 95555-000\n",
              "Name: text, Length: 678, dtype: object"
            ]
          },
          "metadata": {},
          "execution_count": 20
        }
      ]
    },
    {
      "cell_type": "markdown",
      "source": [
        "# Preparação dos datasets"
      ],
      "metadata": {
        "id": "lKHyA7OzICHy"
      }
    },
    {
      "cell_type": "code",
      "source": [
        "MAX_LEN = 32"
      ],
      "metadata": {
        "id": "kkU_9QXNHdbz"
      },
      "execution_count": 21,
      "outputs": []
    },
    {
      "cell_type": "code",
      "source": [
        "class DeepparseDataset(Dataset):\n",
        "    \"\"\"Deepparse CSV dataset.\"\"\"\n",
        "\n",
        "    def __init__(self, dataframe, labelset=None, outside_label='O'):\n",
        "        self.dataframe = dataframe\n",
        "\n",
        "        if labelset:\n",
        "            self.labelset = labelset\n",
        "        else:\n",
        "            self.labelset = sorted(list({ul for l in dataframe['labels'] for ul in l.split()}))\n",
        "\n",
        "        # Garante que o rótulo do elemento 'O' (outside) será sempre o primeiro\n",
        "        self.outside_label = outside_label\n",
        "        self.labelset = ([self.outside_label] + \n",
        "                         [l for l in self.labelset if l != self.outside_label])\n",
        "\n",
        "        self._label_ids = {l: i for i, l in enumerate(self.labelset)}\n",
        "        self._id_labels = {i: l for i, l in enumerate(self.labelset)}\n",
        "        self._tokenizer = BertTokenizerFast.from_pretrained('bert-base-uncased')\n",
        "\n",
        "    def __len__(self):\n",
        "        return len(self.dataframe)\n",
        "\n",
        "    def __getitem__(self, idx):\n",
        "        text = self.dataframe.iloc[idx, :]['text']\n",
        "        tokens = self._tokenizer(text, padding='max_length', max_length = MAX_LEN,\n",
        "                                 truncation=True, return_tensors=\"pt\")\n",
        "\n",
        "        # Os rótulos originais do deepparse consideram palavras separadas por\n",
        "        # espaços. Os tokenizadores do Bert quebram os termos em subpalavras, criando\n",
        "        # em geral mais tokens do que palavras da rotulação original. É preciso \n",
        "        # realinhar os rótulos com a nova divisão. \n",
        "        labels = self.dataframe.iloc[idx, :]['labels'].split()\n",
        "\n",
        "        # Posição das palavras conforme separação original do deepparse\n",
        "        dp_word_pos = [0] + list(np.cumsum([len(t) + 1 for t in text.split()[:-1]]))\n",
        "\n",
        "        # Identificação de qual token inicia cada palavra original\n",
        "        dp_word_to_token = [tokens.char_to_word(wp) for wp in dp_word_pos]\n",
        "\n",
        "        # Função auxiliar que, a partir do id do token, retorna a posição do\n",
        "        # label correspondente na lista original de labels\n",
        "        def get_token_label(map_wt, token_id):\n",
        "            if token_id is None:\n",
        "                return None\n",
        "\n",
        "            try:\n",
        "                l_idx = map_wt.index(token_id)\n",
        "            except ValueError:\n",
        "                l_idx = max([idx for idx, wid in enumerate(map_wt) if wid <= token_id])\n",
        "\n",
        "            return l_idx\n",
        "\n",
        "        # Monta a lista de (ids de) rótulos realinhada com a tokenização do Bert\n",
        "        outside_id = self._label_ids.get(self.outside_label)\n",
        "        token_ids = tokens.word_ids()\n",
        "        label_pos = [get_token_label(dp_word_to_token, wid) for wid in token_ids]\n",
        "        label_ids = torch.LongTensor(\n",
        "            [self._label_ids.get(labels[lp], outside_id)\n",
        "                if lp is not None else outside_id\n",
        "                for lp in label_pos])\n",
        "\n",
        "        return tokens, label_ids\n",
        "\n",
        "    def get_text_rep(self, item, keep_padding=False):\n",
        "        \"\"\"\n",
        "        A partir da tupla retornada por __getitem__, retorna uma representação\n",
        "        textual para facilitar análises\n",
        "        \"\"\"\n",
        "        tokens, label_ids = item\n",
        "\n",
        "        # Obtém apenas o primeiro elemento do tensor\n",
        "        input_ids = tokens['input_ids'].tolist()[0]\n",
        "        if not keep_padding:\n",
        "            input_ids = [id for id in input_ids if id != 0]\n",
        "        label_ids = label_ids.tolist()[:len(input_ids)]\n",
        "\n",
        "        txt_tokens = ' '.join(self._tokenizer.convert_ids_to_tokens(input_ids))\n",
        "        txt_labels = ' '.join([self._id_labels.get(i, '[-]') for i in label_ids])\n",
        "\n",
        "        return txt_tokens, txt_labels"
      ],
      "metadata": {
        "id": "fTNpWgISII8a"
      },
      "execution_count": 22,
      "outputs": []
    },
    {
      "cell_type": "code",
      "source": [
        "dset = DeepparseDataset(dados.sample(1000, random_state=1452320))\n",
        "dset_trn, dset_val, dset_tst = random_split(dset, [0.6, 0.2, 0.2],\n",
        "                                            generator=torch.Generator().manual_seed(1452321))"
      ],
      "metadata": {
        "colab": {
          "base_uri": "https://localhost:8080/",
          "height": 145,
          "referenced_widgets": [
            "a89a21e0750b4da0a5897f37ff0ec0a2",
            "645577b9157d455ab4f5b359398b1f03",
            "a39e51c412ae495bbfe6744bab9a2152",
            "c235e7a27bb241e380b13ed9b91c4a9e",
            "598a4dce18d046ffb0d672d3d4bf6f87",
            "3b185196e34646d79cb40269a2cc8f2a",
            "6d7e7bc2b4864ad5998224f5d0884235",
            "012ee222a94c452387188648a8ec7e0b",
            "3a0951407bea45939eed5063bd740fa6",
            "de87bc11369f4b7aae2a15d86f881d16",
            "a42126d990f945c0bc5ee64732e45253",
            "5874dfdd296e455eaa555669eb78ab23",
            "bcdcc92bc76248b3912d83e3c6e85b53",
            "1a5fae00a4ec4172bcf01211b48824dd",
            "20e56ab2f22440c19a4c233a7bb05301",
            "9805acc4c82742e78c7aa0f79abd227f",
            "1ce817aba2f54ff9bc0e8547d21affd4",
            "e84d563acfaf40769f8ef84496d4a440",
            "7a9f34f0b2fd48ff9c64aca22fc7e300",
            "63adfc74c76441d58a311515fbaefe9a",
            "3838b9abfa814b929574318b7e1ce6ce",
            "28f0935e167142f989b4147398a46744",
            "876208dd6c61448f9ac7b30a4e04e9ef",
            "682e5c2300cf4802b7b847f72203c474",
            "9e2de83f64d1414a9be5fba9a21eb262",
            "79db20a3d4c24aa4a3e222237fccdddf",
            "6a2c6cd4764f42479e11aefbdba31592",
            "3744d792d2304b5180a0068e173670bf",
            "79d2eb3efc3440b39c24808e139f9701",
            "a8bdc48a73ee496ba6604782f01a885e",
            "3b1df5bd1b6a446696c070ba93637dc5",
            "92cd4fcd73294ac483aa47cabfe8344c",
            "00aa9634e7914631a9de4b89f88da29e",
            "687e083e2c5b441eb10ea54bc6bc349a",
            "c5b79d75509a400ab363892238a7129f",
            "53d5ba87ca7e4c0fbcaeb98bd79f4a53",
            "f43d6d65bc954e45a07c2a20068d11f4",
            "0f15a511e8214ae7bd50fad3c234821b",
            "e0cada532d05423c89f1978db6bc390c",
            "da067abff4a54356afc0864d94530fb1",
            "90dbe8121c7047ef8a1d641e409fa55f",
            "37129aacf5fd447f85ab243f8219f5e3",
            "550a5e0849214ec2af116eb938810aa9",
            "f324f3bb2ae746d4a4d203a132bee828"
          ]
        },
        "id": "ZthDvrq-UY8E",
        "outputId": "645c3044-b9eb-4c66-f58c-f7d5aaa749cf"
      },
      "execution_count": 23,
      "outputs": [
        {
          "output_type": "display_data",
          "data": {
            "text/plain": [
              "Downloading (…)okenizer_config.json:   0%|          | 0.00/28.0 [00:00<?, ?B/s]"
            ],
            "application/vnd.jupyter.widget-view+json": {
              "version_major": 2,
              "version_minor": 0,
              "model_id": "a89a21e0750b4da0a5897f37ff0ec0a2"
            }
          },
          "metadata": {}
        },
        {
          "output_type": "display_data",
          "data": {
            "text/plain": [
              "Downloading (…)solve/main/vocab.txt:   0%|          | 0.00/232k [00:00<?, ?B/s]"
            ],
            "application/vnd.jupyter.widget-view+json": {
              "version_major": 2,
              "version_minor": 0,
              "model_id": "5874dfdd296e455eaa555669eb78ab23"
            }
          },
          "metadata": {}
        },
        {
          "output_type": "display_data",
          "data": {
            "text/plain": [
              "Downloading (…)/main/tokenizer.json:   0%|          | 0.00/466k [00:00<?, ?B/s]"
            ],
            "application/vnd.jupyter.widget-view+json": {
              "version_major": 2,
              "version_minor": 0,
              "model_id": "876208dd6c61448f9ac7b30a4e04e9ef"
            }
          },
          "metadata": {}
        },
        {
          "output_type": "display_data",
          "data": {
            "text/plain": [
              "Downloading (…)lve/main/config.json:   0%|          | 0.00/570 [00:00<?, ?B/s]"
            ],
            "application/vnd.jupyter.widget-view+json": {
              "version_major": 2,
              "version_minor": 0,
              "model_id": "687e083e2c5b441eb10ea54bc6bc349a"
            }
          },
          "metadata": {}
        }
      ]
    },
    {
      "cell_type": "code",
      "source": [
        "len(dset_trn), len(dset_val), len(dset_tst)"
      ],
      "metadata": {
        "colab": {
          "base_uri": "https://localhost:8080/"
        },
        "id": "cwkCCyerT0wH",
        "outputId": "fafd3a81-fde0-4054-cc8c-0b9a9d59ae93"
      },
      "execution_count": 24,
      "outputs": [
        {
          "output_type": "execute_result",
          "data": {
            "text/plain": [
              "(600, 200, 200)"
            ]
          },
          "metadata": {},
          "execution_count": 24
        }
      ]
    },
    {
      "cell_type": "code",
      "source": [
        "dset.labelset"
      ],
      "metadata": {
        "colab": {
          "base_uri": "https://localhost:8080/"
        },
        "id": "tIK4FhGXmBo1",
        "outputId": "fce52682-e6e0-48f2-e4aa-91481b541e47"
      },
      "execution_count": 25,
      "outputs": [
        {
          "output_type": "execute_result",
          "data": {
            "text/plain": [
              "['O', 'CEP', 'LOG', 'MUN', 'NUM', 'UF']"
            ]
          },
          "metadata": {},
          "execution_count": 25
        }
      ]
    },
    {
      "cell_type": "code",
      "source": [
        "dset_trn[120]"
      ],
      "metadata": {
        "colab": {
          "base_uri": "https://localhost:8080/"
        },
        "id": "u7fkcOAaOEpU",
        "outputId": "41921d33-b4b0-44b6-c15b-56c79fa18862"
      },
      "execution_count": 15,
      "outputs": [
        {
          "output_type": "execute_result",
          "data": {
            "text/plain": [
              "({'input_ids': tensor([[  101, 14115,  2140,  2079,  8096, 17166, 13955, 28621,  6643,  6273,\n",
              "           2581, 10790,  1011,  2199,   102,     0,     0,     0,     0,     0,\n",
              "              0,     0,     0,     0,     0,     0,     0,     0,     0,     0,\n",
              "              0,     0]]), 'token_type_ids': tensor([[0, 0, 0, 0, 0, 0, 0, 0, 0, 0, 0, 0, 0, 0, 0, 0, 0, 0, 0, 0, 0, 0, 0, 0,\n",
              "          0, 0, 0, 0, 0, 0, 0, 0]]), 'attention_mask': tensor([[1, 1, 1, 1, 1, 1, 1, 1, 1, 1, 1, 1, 1, 1, 1, 0, 0, 0, 0, 0, 0, 0, 0, 0,\n",
              "          0, 0, 0, 0, 0, 0, 0, 0]])},\n",
              " tensor([0, 2, 2, 2, 2, 2, 3, 3, 5, 1, 1, 1, 1, 1, 0, 0, 0, 0, 0, 0, 0, 0, 0, 0,\n",
              "         0, 0, 0, 0, 0, 0, 0, 0]))"
            ]
          },
          "metadata": {},
          "execution_count": 15
        }
      ]
    },
    {
      "cell_type": "code",
      "source": [
        "dset.get_text_rep(dset_trn[120])"
      ],
      "metadata": {
        "colab": {
          "base_uri": "https://localhost:8080/"
        },
        "id": "lX_3k8-fn1a1",
        "outputId": "29fbd5ae-7a17-4d88-a284-cc88fd67a204"
      },
      "execution_count": 16,
      "outputs": [
        {
          "output_type": "execute_result",
          "data": {
            "text/plain": [
              "('[CLS] rama ##l do cruz ##eiro mara ##cana pa 68 ##7 ##10 - 000 [SEP]',\n",
              " 'O LOG LOG LOG LOG LOG MUN MUN UF CEP CEP CEP CEP CEP O')"
            ]
          },
          "metadata": {},
          "execution_count": 16
        }
      ]
    },
    {
      "cell_type": "code",
      "source": [
        "dset.dataframe.iloc[dset_trn.indices[120], :]"
      ],
      "metadata": {
        "colab": {
          "base_uri": "https://localhost:8080/"
        },
        "id": "9FbTY6sCWoxA",
        "outputId": "c8e4f5aa-8282-461a-8f26-c7806f93db95"
      },
      "execution_count": 17,
      "outputs": [
        {
          "output_type": "execute_result",
          "data": {
            "text/plain": [
              "text      ramal do cruzeiro maracanã pa 68710-000\n",
              "labels                     LOG LOG LOG MUN UF CEP\n",
              "Name: 41783, dtype: object"
            ]
          },
          "metadata": {},
          "execution_count": 17
        }
      ]
    },
    {
      "cell_type": "markdown",
      "source": [
        "# Inicialização do modelo BERT"
      ],
      "metadata": {
        "id": "SGJYz8xHIZHp"
      }
    },
    {
      "cell_type": "code",
      "source": [
        "%%capture\n",
        "use_cuda = torch.cuda.is_available()\n",
        "device = torch.device(\"cuda\" if use_cuda else \"cpu\")\n",
        "\n",
        "model = BertForTokenClassification.from_pretrained(\n",
        "    'bert-base-uncased',\n",
        "    num_labels=len(dset.labelset),\n",
        "    id2label=dset._id_labels,\n",
        "    label2id=dset._label_ids)\n",
        "\n",
        "model.to(device)"
      ],
      "metadata": {
        "colab": {
          "base_uri": "https://localhost:8080/",
          "height": 124
        },
        "id": "FFxoMzOGn2F0",
        "outputId": "e9559f5c-d8c1-4a4b-84f4-96cb54bbfac5"
      },
      "execution_count": 18,
      "outputs": [
        {
          "output_type": "stream",
          "name": "stderr",
          "text": [
            "Some weights of the model checkpoint at bert-base-uncased were not used when initializing BertForTokenClassification: ['cls.predictions.transform.LayerNorm.weight', 'cls.predictions.transform.LayerNorm.bias', 'cls.predictions.transform.dense.weight', 'cls.seq_relationship.bias', 'cls.seq_relationship.weight', 'cls.predictions.bias', 'cls.predictions.decoder.weight', 'cls.predictions.transform.dense.bias']\n",
            "- This IS expected if you are initializing BertForTokenClassification from the checkpoint of a model trained on another task or with another architecture (e.g. initializing a BertForSequenceClassification model from a BertForPreTraining model).\n",
            "- This IS NOT expected if you are initializing BertForTokenClassification from the checkpoint of a model that you expect to be exactly identical (initializing a BertForSequenceClassification model from a BertForSequenceClassification model).\n",
            "Some weights of BertForTokenClassification were not initialized from the model checkpoint at bert-base-uncased and are newly initialized: ['classifier.bias', 'classifier.weight']\n",
            "You should probably TRAIN this model on a down-stream task to be able to use it for predictions and inference.\n"
          ]
        }
      ]
    },
    {
      "cell_type": "code",
      "source": [
        "model.config"
      ],
      "metadata": {
        "colab": {
          "base_uri": "https://localhost:8080/"
        },
        "id": "qqpzmWzsprLa",
        "outputId": "711bfeb5-dc04-40b9-b6bf-6a8ba3777e34"
      },
      "execution_count": 19,
      "outputs": [
        {
          "output_type": "execute_result",
          "data": {
            "text/plain": [
              "BertConfig {\n",
              "  \"_name_or_path\": \"bert-base-uncased\",\n",
              "  \"architectures\": [\n",
              "    \"BertForMaskedLM\"\n",
              "  ],\n",
              "  \"attention_probs_dropout_prob\": 0.1,\n",
              "  \"classifier_dropout\": null,\n",
              "  \"gradient_checkpointing\": false,\n",
              "  \"hidden_act\": \"gelu\",\n",
              "  \"hidden_dropout_prob\": 0.1,\n",
              "  \"hidden_size\": 768,\n",
              "  \"id2label\": {\n",
              "    \"0\": \"O\",\n",
              "    \"1\": \"CEP\",\n",
              "    \"2\": \"LOG\",\n",
              "    \"3\": \"MUN\",\n",
              "    \"4\": \"NUM\",\n",
              "    \"5\": \"UF\"\n",
              "  },\n",
              "  \"initializer_range\": 0.02,\n",
              "  \"intermediate_size\": 3072,\n",
              "  \"label2id\": {\n",
              "    \"CEP\": 1,\n",
              "    \"LOG\": 2,\n",
              "    \"MUN\": 3,\n",
              "    \"NUM\": 4,\n",
              "    \"O\": 0,\n",
              "    \"UF\": 5\n",
              "  },\n",
              "  \"layer_norm_eps\": 1e-12,\n",
              "  \"max_position_embeddings\": 512,\n",
              "  \"model_type\": \"bert\",\n",
              "  \"num_attention_heads\": 12,\n",
              "  \"num_hidden_layers\": 12,\n",
              "  \"pad_token_id\": 0,\n",
              "  \"position_embedding_type\": \"absolute\",\n",
              "  \"transformers_version\": \"4.26.0\",\n",
              "  \"type_vocab_size\": 2,\n",
              "  \"use_cache\": true,\n",
              "  \"vocab_size\": 30522\n",
              "}"
            ]
          },
          "metadata": {},
          "execution_count": 19
        }
      ]
    },
    {
      "cell_type": "markdown",
      "source": [
        "Como a função perda do modelo é a *entropia cruzada*, o modelo ainda não treinado deve ter uma perda próxima da entropia máxima, que é de $-\\ln(1/n)$, onde $n$ é o número de rótulos. No caso, $-ln(1/6)=1.79$."
      ],
      "metadata": {
        "id": "V_K84Q4_xtbk"
      }
    },
    {
      "cell_type": "code",
      "source": [
        "tokens, label_ids = dset_trn[0]\n",
        "input_ids = tokens['input_ids'].to(device)\n",
        "attention_mask = tokens['attention_mask'].to(device)\n",
        "outputs = model(input_ids=input_ids, attention_mask=attention_mask, labels=label_ids)\n",
        "outputs['loss']"
      ],
      "metadata": {
        "colab": {
          "base_uri": "https://localhost:8080/"
        },
        "id": "vH7Z1rg5IpXb",
        "outputId": "1c0d63cc-ea25-4402-8ac7-17b86f1d92be"
      },
      "execution_count": 20,
      "outputs": [
        {
          "output_type": "execute_result",
          "data": {
            "text/plain": [
              "tensor(1.8641, grad_fn=<NllLossBackward0>)"
            ]
          },
          "metadata": {},
          "execution_count": 20
        }
      ]
    },
    {
      "cell_type": "code",
      "source": [
        "BATCH_SIZE = 4\n",
        "EPOCHS = 1\n",
        "LEARNING_RATE = 1e-05\n",
        "MAX_GRAD_NORM = 10\n",
        "\n",
        "#LEARNING_RATE = 5e-3\n",
        "#EPOCHS = 5\n",
        "#BATCH_SIZE = 2"
      ],
      "metadata": {
        "id": "tS6kCqSztvex"
      },
      "execution_count": 102,
      "outputs": []
    },
    {
      "cell_type": "code",
      "source": [
        "tokens['input_ids'].shape, tokens['input_ids'].squeeze(0).shape"
      ],
      "metadata": {
        "colab": {
          "base_uri": "https://localhost:8080/"
        },
        "id": "OSk2XUUAbEZ0",
        "outputId": "cd685325-b812-4cd8-f817-8f05b94f794f"
      },
      "execution_count": 54,
      "outputs": [
        {
          "output_type": "execute_result",
          "data": {
            "text/plain": [
              "(torch.Size([1, 32]), torch.Size([32]))"
            ]
          },
          "metadata": {},
          "execution_count": 54
        }
      ]
    },
    {
      "cell_type": "code",
      "source": [
        "outputs['logits'].view(-1, 6)"
      ],
      "metadata": {
        "colab": {
          "base_uri": "https://localhost:8080/"
        },
        "id": "YKKvIUtPXTg0",
        "outputId": "6335d752-b571-4f38-d2b2-8a7affe0494b"
      },
      "execution_count": 41,
      "outputs": [
        {
          "output_type": "execute_result",
          "data": {
            "text/plain": [
              "tensor([[-0.4184, -0.2407,  0.4331,  0.0615, -0.1948,  0.1944],\n",
              "        [-0.1995, -0.3228,  0.1269,  0.0716, -0.4840, -0.2923],\n",
              "        [-0.0656, -0.3456, -0.0405,  0.0765,  0.1081, -0.4086],\n",
              "        [ 0.2763,  0.1454,  0.3541,  0.2043, -0.0893,  0.1717],\n",
              "        [ 0.5258, -0.0744,  0.3883,  0.0057, -0.0297, -0.1559],\n",
              "        [ 0.4527,  0.3354,  0.4728,  0.0216, -0.3497, -0.0330],\n",
              "        [-0.0508, -0.0484,  0.3716, -0.2226, -0.1615, -0.6703],\n",
              "        [ 0.6507,  0.2174,  0.2447,  0.4357, -0.6709,  0.2212],\n",
              "        [ 0.4629,  0.0531,  0.5840, -0.0717, -0.1690,  0.1795],\n",
              "        [ 0.3765,  0.0114,  0.3430, -0.1083, -0.0689, -0.2839],\n",
              "        [ 0.3227, -0.0015,  0.4579,  0.0266, -0.0169, -0.0295],\n",
              "        [-0.0713, -0.0690,  0.7145, -0.2690, -0.2822,  0.1704],\n",
              "        [ 0.0322, -0.0017,  0.5979, -0.3844, -0.0681,  0.1792],\n",
              "        [ 0.0235, -0.0199,  0.5832, -0.3131, -0.3797,  0.3717],\n",
              "        [ 0.1132, -0.0786,  0.4356, -0.1574,  0.1944,  0.0758],\n",
              "        [ 0.0081, -0.3694,  0.4596, -0.0790, -0.1529,  0.2157],\n",
              "        [ 0.0504, -0.0582,  0.4429, -0.0773, -0.1597,  0.3846],\n",
              "        [-0.0521, -0.0532,  0.2536,  0.5496,  0.1958,  0.0174],\n",
              "        [-0.0476,  0.0247,  0.1391,  0.1423, -0.0918,  0.4550],\n",
              "        [-0.1243,  0.0066,  0.1225,  0.1937, -0.0723,  0.5202],\n",
              "        [-0.1034,  0.0395,  0.1331,  0.2397, -0.0554,  0.5066],\n",
              "        [-0.1505, -0.0011,  0.1020,  0.1890, -0.0619,  0.5450],\n",
              "        [-0.0875,  0.0452,  0.1638,  0.2727, -0.1383,  0.4695],\n",
              "        [-0.0380,  0.0678,  0.3449,  0.2186, -0.1314,  0.3127],\n",
              "        [ 0.0424,  0.0287,  0.3615,  0.2440, -0.2085,  0.2465],\n",
              "        [-0.0008, -0.0076,  0.3473,  0.1777, -0.2403,  0.2532],\n",
              "        [-0.0034,  0.0186,  0.3151,  0.1876, -0.1540,  0.3029],\n",
              "        [-0.0042,  0.0261,  0.3114,  0.1933, -0.0620,  0.3727],\n",
              "        [-0.0288,  0.0284,  0.2740,  0.2854, -0.3352,  0.3380],\n",
              "        [ 0.0714, -0.0052,  0.3179,  0.2094, -0.1557,  0.3437],\n",
              "        [ 0.0871, -0.0065,  0.2981,  0.2823, -0.2331,  0.2906],\n",
              "        [ 0.0407,  0.0268,  0.4143,  0.1955, -0.0643,  0.2553]],\n",
              "       grad_fn=<ViewBackward0>)"
            ]
          },
          "metadata": {},
          "execution_count": 41
        }
      ]
    },
    {
      "cell_type": "code",
      "source": [
        "outputs['logits'].squeeze(0).shape, outputs['logits'].view(-1, 6).shape"
      ],
      "metadata": {
        "colab": {
          "base_uri": "https://localhost:8080/"
        },
        "id": "B7W5OoAma1ot",
        "outputId": "60874f3c-ad9c-4a00-b31b-70ce602dd12f"
      },
      "execution_count": 51,
      "outputs": [
        {
          "output_type": "execute_result",
          "data": {
            "text/plain": [
              "(torch.Size([32, 6]), torch.Size([32, 6]))"
            ]
          },
          "metadata": {},
          "execution_count": 51
        }
      ]
    },
    {
      "cell_type": "code",
      "source": [
        "outputs['logits'].view(-1).shape"
      ],
      "metadata": {
        "colab": {
          "base_uri": "https://localhost:8080/"
        },
        "id": "X49bH_ZFhprb",
        "outputId": "2db4ffdd-6edd-40d7-b8ce-3677e181b86d"
      },
      "execution_count": 66,
      "outputs": [
        {
          "output_type": "execute_result",
          "data": {
            "text/plain": [
              "torch.Size([192])"
            ]
          },
          "metadata": {},
          "execution_count": 66
        }
      ]
    },
    {
      "cell_type": "code",
      "source": [
        "tokens['attention_mask'].view(-1) == 1"
      ],
      "metadata": {
        "colab": {
          "base_uri": "https://localhost:8080/"
        },
        "id": "R1o732wYh3G8",
        "outputId": "e3c2dfb9-5c4a-4cdf-c8cd-cb6808d43524"
      },
      "execution_count": 63,
      "outputs": [
        {
          "output_type": "execute_result",
          "data": {
            "text/plain": [
              "tensor([ True,  True,  True,  True,  True,  True,  True,  True,  True,  True,\n",
              "         True,  True,  True,  True,  True,  True,  True,  True, False, False,\n",
              "        False, False, False, False, False, False, False, False, False, False,\n",
              "        False, False])"
            ]
          },
          "metadata": {},
          "execution_count": 63
        }
      ]
    },
    {
      "cell_type": "code",
      "source": [
        "label_ids.shape, label_ids.unsqueeze(0).shape, label_ids.unsqueeze(0).view(-1).shape"
      ],
      "metadata": {
        "colab": {
          "base_uri": "https://localhost:8080/"
        },
        "id": "LhfO3AXPYLl6",
        "outputId": "aa2e7b92-403c-47ef-a52e-5ae41a9ac0db"
      },
      "execution_count": 38,
      "outputs": [
        {
          "output_type": "execute_result",
          "data": {
            "text/plain": [
              "(torch.Size([32]), torch.Size([1, 32]), torch.Size([32]))"
            ]
          },
          "metadata": {},
          "execution_count": 38
        }
      ]
    },
    {
      "cell_type": "code",
      "source": [
        "def model_loop(model, loader, optimizer=None, train=False, print_steps=100):\n",
        "    total_loss = 0.0\n",
        "    total_accuracy = 0.0\n",
        "    predictions = []\n",
        "\n",
        "    # Configura modo de treinamento ou de avaliação\n",
        "    model.train(mode=train)\n",
        "    ctx_grad = nullcontext() if train else torch.nograd()\n",
        "\n",
        "    with ctx_grad:\n",
        "        for i, batch in enumerate(loader):\n",
        "            b_tokens, b_labels = batch\n",
        "\n",
        "            input_ids = b_tokens['input_ids'].to(device)\n",
        "            attention_mask = b_tokens['attention_mask'].to(device)\n",
        "            label_ids = b_labels.to(device)\n",
        "\n",
        "            outputs = model(input_ids=input_ids, attention_mask=attention_mask, labels=label_ids)\n",
        "            loss = outputs['loss']\n",
        "            logits = outputs['logits']\n",
        "\n",
        "            total_loss += loss\n",
        "\n",
        "            if (print_steps) and ((i + 1) % print_steps == 0):\n",
        "                print(f'Loss after {i + 1} steps: {total_loss / (i + 1)}')\n",
        "\n",
        "\n",
        "\n",
        "\n",
        "\n",
        "\n",
        "\n",
        "\n"
      ],
      "metadata": {
        "id": "WO_oR3sHKrv8"
      },
      "execution_count": null,
      "outputs": []
    },
    {
      "cell_type": "code",
      "source": [
        "def train_loop(model, train_dataset, val_dataset):\n",
        "\n",
        "    train_dataloader = DataLoader(train_dataset, num_workers=4, batch_size=BATCH_SIZE, shuffle=True)\n",
        "    val_dataloader = DataLoader(val_dataset, num_workers=4, batch_size=BATCH_SIZE)\n",
        "\n",
        "    use_cuda = torch.cuda.is_available()\n",
        "    device = torch.device(\"cuda\" if use_cuda else \"cpu\")\n",
        "\n",
        "    optimizer = SGD(model.parameters(), lr=LEARNING_RATE)\n",
        "\n",
        "    if use_cuda:\n",
        "        model = model.cuda()\n",
        "\n",
        "    best_acc = 0\n",
        "    best_loss = 1000\n",
        "\n",
        "    for epoch_num in range(EPOCHS):\n",
        "\n",
        "        total_acc_train = 0\n",
        "        total_loss_train = 0\n",
        "\n",
        "        model.train()\n",
        "\n",
        "        for train_data, train_label in tqdm.tqdm(train_dataloader):\n",
        "\n",
        "            input_id = train_data['input_ids'].squeeze(1).to(device)\n",
        "            mask = train_data['attention_mask'].squeeze(1).to(device)\n",
        "            train_label = train_label.to(device)\n",
        "\n",
        "            optimizer.zero_grad()\n",
        "            loss, logits = model(input_id, mask, train_label)\n",
        "\n",
        "            for i in range(logits.shape[0]):\n",
        "\n",
        "              logits_clean = logits[i][train_label[i] > 0]\n",
        "              label_clean = train_label[i][train_label[i] > 0]\n",
        "\n",
        "              predictions = logits_clean.argmax(dim=1)\n",
        "              acc = (predictions == label_clean).float().mean()\n",
        "              total_acc_train += acc\n",
        "              total_loss_train += loss.item()\n",
        "\n",
        "            loss.backward()\n",
        "            optimizer.step()\n",
        "\n",
        "        model.eval()\n",
        "\n",
        "        total_acc_val = 0\n",
        "        total_loss_val = 0\n",
        "\n",
        "        for val_data, val_label in val_dataloader:\n",
        "\n",
        "            val_label = val_label.to(device)\n",
        "            mask = val_data['attention_mask'].squeeze(1).to(device)\n",
        "            input_id = val_data['input_ids'].squeeze(1).to(device)\n",
        "\n",
        "            loss, logits = model(input_id, mask, val_label)\n",
        "\n",
        "            for i in range(logits.shape[0]):\n",
        "\n",
        "              logits_clean = logits[i][val_label[i] > 0]\n",
        "              label_clean = val_label[i][val_label[i] > 0]\n",
        "\n",
        "              predictions = logits_clean.argmax(dim=1)\n",
        "              acc = (predictions == label_clean).float().mean()\n",
        "              total_acc_val += acc\n",
        "              total_loss_val += loss.item()\n",
        "\n",
        "        print(\n",
        "            f'Epochs: {epoch_num + 1} | '\n",
        "            f'Loss: {total_loss_train / len(train_dataset): .3f} | '\n",
        "            f'Accuracy: {total_acc_train / len(train_dataset): .3f} | '\n",
        "            f'Val_Loss: {total_loss_val / len(val_dataset): .3f} | '\n",
        "            f'Accuracy: {total_acc_val / len(val_dataset): .3f}')"
      ],
      "metadata": {
        "id": "IHhU_Vomnyi0"
      },
      "execution_count": 50,
      "outputs": []
    },
    {
      "cell_type": "code",
      "source": [
        "#optimizer = SGD(model.parameters(), lr=LEARNING_RATE)\n",
        "optimizer = torch.optim.Adam(params=model.parameters(), lr=LEARNING_RATE)"
      ],
      "metadata": {
        "id": "KsOFosnJv6ol"
      },
      "execution_count": 103,
      "outputs": []
    },
    {
      "cell_type": "code",
      "source": [
        "train_loop(model, dset_trn, dset_val)"
      ],
      "metadata": {
        "colab": {
          "base_uri": "https://localhost:8080/"
        },
        "id": "8P0fStIbp3dc",
        "outputId": "7ed15dff-c983-470e-c337-69bed5cc5f09"
      },
      "execution_count": 52,
      "outputs": [
        {
          "output_type": "stream",
          "name": "stderr",
          "text": [
            "100%|██████████| 337/337 [08:09<00:00,  1.45s/it]\n"
          ]
        },
        {
          "output_type": "stream",
          "name": "stdout",
          "text": [
            "Epochs: 1 | Loss:  0.273 | Accuracy:  0.917 | Val_Loss:  0.055 | Accuracy:  0.984\n"
          ]
        },
        {
          "output_type": "stream",
          "name": "stderr",
          "text": [
            "100%|██████████| 337/337 [08:08<00:00,  1.45s/it]\n"
          ]
        },
        {
          "output_type": "stream",
          "name": "stdout",
          "text": [
            "Epochs: 2 | Loss:  0.059 | Accuracy:  0.985 | Val_Loss:  0.034 | Accuracy:  0.990\n"
          ]
        },
        {
          "output_type": "stream",
          "name": "stderr",
          "text": [
            "100%|██████████| 337/337 [08:05<00:00,  1.44s/it]\n"
          ]
        },
        {
          "output_type": "stream",
          "name": "stdout",
          "text": [
            "Epochs: 3 | Loss:  0.035 | Accuracy:  0.990 | Val_Loss:  0.027 | Accuracy:  0.992\n"
          ]
        },
        {
          "output_type": "stream",
          "name": "stderr",
          "text": [
            "100%|██████████| 337/337 [08:07<00:00,  1.45s/it]\n"
          ]
        },
        {
          "output_type": "stream",
          "name": "stdout",
          "text": [
            "Epochs: 4 | Loss:  0.020 | Accuracy:  0.995 | Val_Loss:  0.024 | Accuracy:  0.992\n"
          ]
        },
        {
          "output_type": "stream",
          "name": "stderr",
          "text": [
            "100%|██████████| 337/337 [08:11<00:00,  1.46s/it]\n"
          ]
        },
        {
          "output_type": "stream",
          "name": "stdout",
          "text": [
            "Epochs: 5 | Loss:  0.013 | Accuracy:  0.997 | Val_Loss:  0.025 | Accuracy:  0.993\n"
          ]
        }
      ]
    },
    {
      "cell_type": "code",
      "source": [
        "import evaluate\n",
        "seqeval = evaluate.load('seqeval')"
      ],
      "metadata": {
        "id": "oyehJkckxEqD"
      },
      "execution_count": 8,
      "outputs": []
    },
    {
      "cell_type": "code",
      "source": [
        "t_predictions = [['B-LOG', 'I-LOG', 'I-LOG', 'I-LOG', 'B-MUN', 'I-MUN'], ['B-CEP', 'I-CEP', 'O']]\n",
        "t_references = [['B-LOG', 'I-LOG', 'I-LOG', 'O', 'B-MUN', 'I-MUN'], ['B-CEP', 'I-CEP', 'O']]\n",
        "seqeval.compute(predictions=t_predictions, references=t_references)"
      ],
      "metadata": {
        "colab": {
          "base_uri": "https://localhost:8080/"
        },
        "id": "23rC6gG-NvQe",
        "outputId": "1da0c3ea-8c62-4f98-f59a-03b9a9197bdd"
      },
      "execution_count": 13,
      "outputs": [
        {
          "output_type": "execute_result",
          "data": {
            "text/plain": [
              "{'CEP': {'precision': 1.0, 'recall': 1.0, 'f1': 1.0, 'number': 1},\n",
              " 'LOG': {'precision': 0.0, 'recall': 0.0, 'f1': 0.0, 'number': 1},\n",
              " 'MUN': {'precision': 1.0, 'recall': 1.0, 'f1': 1.0, 'number': 1},\n",
              " 'overall_precision': 0.6666666666666666,\n",
              " 'overall_recall': 0.6666666666666666,\n",
              " 'overall_f1': 0.6666666666666666,\n",
              " 'overall_accuracy': 0.8888888888888888}"
            ]
          },
          "metadata": {},
          "execution_count": 13
        }
      ]
    },
    {
      "cell_type": "code",
      "source": [
        "evaluate.compute()"
      ],
      "metadata": {
        "id": "RZvAvaHKOqzM"
      },
      "execution_count": null,
      "outputs": []
    }
  ]
}